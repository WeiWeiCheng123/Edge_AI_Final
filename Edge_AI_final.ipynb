{
  "nbformat": 4,
  "nbformat_minor": 0,
  "metadata": {
    "colab": {
      "name": "Edge_AI_final.ipynb",
      "provenance": [],
      "collapsed_sections": [
        "aVDyYXnYAr_g"
      ]
    },
    "kernelspec": {
      "name": "python3",
      "display_name": "Python 3"
    },
    "language_info": {
      "name": "python"
    },
    "accelerator": "GPU"
  },
  "cells": [
    {
      "cell_type": "markdown",
      "source": [
        "# M11007309 鄭維新\n",
        "# Edge AI Final Project\n",
        "\n",
        "執行方法: runtime選擇GPU，待初始化完成後全部執行即可。"
      ],
      "metadata": {
        "id": "8Z-F_2Ip-hWn"
      }
    },
    {
      "cell_type": "markdown",
      "source": [
        "# 播放影片功能\n",
        "\n",
        "用於demo展示結果使用"
      ],
      "metadata": {
        "id": "nF8fYHgUAFue"
      }
    },
    {
      "cell_type": "code",
      "source": [
        "from IPython.display import HTML\n",
        "from base64 import b64encode\n",
        " \n",
        "def show_video(video_path, video_width = 600):\n",
        "   \n",
        "  video_file = open(video_path, \"r+b\").read()\n",
        " \n",
        "  video_url = f\"data:video/mp4;base64,{b64encode(video_file).decode()}\"\n",
        "\n",
        "  return HTML(f\"\"\"<video width={video_width} controls><source src=\"{video_url}\"></video>\"\"\")\n"
      ],
      "metadata": {
        "id": "_C_xJO1Hx-4I"
      },
      "execution_count": null,
      "outputs": []
    },
    {
      "cell_type": "markdown",
      "source": [
        "# 下載Darknet並修改參數"
      ],
      "metadata": {
        "id": "NSiD2io0AS5i"
      }
    },
    {
      "cell_type": "code",
      "source": [
        "# 下載darknet\n",
        "!git clone https://github.com/AlexeyAB/darknet"
      ],
      "metadata": {
        "id": "vAQdI8YYGuYB"
      },
      "execution_count": null,
      "outputs": []
    },
    {
      "cell_type": "code",
      "source": [
        "# 修改Makefile參數\n",
        "%cd darknet\n",
        "!sed -i 's/OPENCV=0/OPENCV=1/' Makefile\n",
        "!sed -i 's/GPU=0/GPU=1/' Makefile\n",
        "!sed -i 's/CUDNN=0/CUDNN=1/' Makefile\n",
        "!sed -i 's/CUDNN_HALF=0/CUDNN_HALF=1/' Makefile"
      ],
      "metadata": {
        "colab": {
          "base_uri": "https://localhost:8080/"
        },
        "id": "9vVbbjGx3QDz",
        "outputId": "21a5a280-9f20-4d62-f5aa-b3a16affb7d4"
      },
      "execution_count": null,
      "outputs": [
        {
          "output_type": "stream",
          "name": "stdout",
          "text": [
            "/content/darknet\n"
          ]
        }
      ]
    },
    {
      "cell_type": "code",
      "source": [
        "# 編譯darknet\n",
        "!make"
      ],
      "metadata": {
        "id": "f787VUbM3kcs"
      },
      "execution_count": null,
      "outputs": []
    },
    {
      "cell_type": "code",
      "source": [
        "%cd /content"
      ],
      "metadata": {
        "colab": {
          "base_uri": "https://localhost:8080/"
        },
        "id": "oiqxf5yz3_rS",
        "outputId": "995d2e9c-8f82-463f-ac89-9c1885a8f1b5"
      },
      "execution_count": null,
      "outputs": [
        {
          "output_type": "stream",
          "name": "stdout",
          "text": [
            "/content\n"
          ]
        }
      ]
    },
    {
      "cell_type": "markdown",
      "source": [
        "# 下載專案權重、資料"
      ],
      "metadata": {
        "id": "234tISGLAckQ"
      }
    },
    {
      "cell_type": "code",
      "source": [
        "# 下載專案權重，資料\n",
        "!git clone https://github.com/WeiWeiCheng123/edge_AI_Final"
      ],
      "metadata": {
        "id": "9eykcDFt4F5-"
      },
      "execution_count": null,
      "outputs": []
    },
    {
      "cell_type": "code",
      "source": [
        "# 複製相關參數到對應路徑下\n",
        "!cp edge_AI_Final/my_yolov4-tiny-custom.cfg darknet/cfg\n",
        "!cp edge_AI_Final/my_yolov4-tiny-custom_final.weights darknet/\n",
        "!cp edge_AI_Final/my_obj.names darknet/data\n",
        "!cp edge_AI_Final/my_obj.data darknet/data\n",
        "!cp edge_AI_Final/my_train.txt darknet/data\n",
        "!cp edge_AI_Final/my_val.txt darknet/data\n",
        "!cp -R edge_AI_Final/Test darknet/data"
      ],
      "metadata": {
        "id": "TDDVj6gU4lKT"
      },
      "execution_count": null,
      "outputs": []
    },
    {
      "cell_type": "markdown",
      "source": [
        "#結果展示"
      ],
      "metadata": {
        "id": "W_nzDxwKAiaC"
      }
    },
    {
      "cell_type": "code",
      "source": [
        "%cd darknet\n",
        "!chmod +x ./darknet"
      ],
      "metadata": {
        "colab": {
          "base_uri": "https://localhost:8080/"
        },
        "id": "mlR7u6rZ5CYO",
        "outputId": "3c7ba3d6-85be-478a-e8fd-615a2ce51a03"
      },
      "execution_count": null,
      "outputs": [
        {
          "output_type": "stream",
          "name": "stdout",
          "text": [
            "/content/darknet\n"
          ]
        }
      ]
    },
    {
      "cell_type": "markdown",
      "source": [
        "##輪椅"
      ],
      "metadata": {
        "id": "aVDyYXnYAr_g"
      }
    },
    {
      "cell_type": "code",
      "source": [
        "# 測試輪椅影片\n",
        "!./darknet detector demo data/my_obj.data cfg/my_yolov4-tiny-custom.cfg my_yolov4-tiny-custom_final.weights data/Test/wheelchair2.mp4  -out_filename wheelchair_res.mp4 -dont_show"
      ],
      "metadata": {
        "id": "vAudO4_x6SLX"
      },
      "execution_count": null,
      "outputs": []
    },
    {
      "cell_type": "code",
      "source": [
        "# 壓縮影片，使Colab能正常播放 \n",
        "!ffmpeg -y -i wheelchair_res.mp4 -vcodec libx264 compressed_wheelchair_res.mp4"
      ],
      "metadata": {
        "id": "8cwcncpF5sC6"
      },
      "execution_count": null,
      "outputs": []
    },
    {
      "cell_type": "code",
      "source": [
        "# 播放影片\n",
        "show_video('compressed_wheelchair_res.mp4')"
      ],
      "metadata": {
        "id": "V7lBSwin5yCs"
      },
      "execution_count": null,
      "outputs": []
    },
    {
      "cell_type": "markdown",
      "source": [
        "##路人"
      ],
      "metadata": {
        "id": "tLybsLeAAvsD"
      }
    },
    {
      "cell_type": "code",
      "source": [
        "# 測試路人影片\n",
        "!./darknet detector demo data/my_obj.data cfg/my_yolov4-tiny-custom.cfg my_yolov4-tiny-custom_final.weights data/Test/people1.mp4 -out_filename people_res.mp4 -dont_show"
      ],
      "metadata": {
        "id": "I06gWxbN6UyI"
      },
      "execution_count": null,
      "outputs": []
    },
    {
      "cell_type": "code",
      "source": [
        "# 壓縮影片，使Colab能正常播放 \n",
        "!ffmpeg -y -i people_res.mp4 -vcodec libx264 compressed_people_res.mp4"
      ],
      "metadata": {
        "id": "aqNokTGC6Xu2"
      },
      "execution_count": null,
      "outputs": []
    },
    {
      "cell_type": "code",
      "source": [
        "# 播放影片\n",
        "show_video('compressed_people_res.mp4')"
      ],
      "metadata": {
        "id": "2umpNVQV6YBy"
      },
      "execution_count": null,
      "outputs": []
    },
    {
      "cell_type": "markdown",
      "source": [
        "#訓練及測試模型\n",
        "\n",
        "以下提供訓練本模型及測試結果的方式，需要使用直接取消註解即可"
      ],
      "metadata": {
        "id": "jpVochyRCarb"
      }
    },
    {
      "cell_type": "code",
      "source": [
        "'''\n",
        "%cd /content\n",
        "!cp -R edge_AI_Final/dataset darknet/data\n",
        "!cp edge_AI_Final/yolov4-tiny.conv.29 darknet/\n",
        "%cd darknet\n",
        "!chmod +x ./darknet\n",
        "\n",
        "# 訓練\n",
        "!./darknet detector train data/my_obj.data cfg/my_yolov4-tiny-custom.cfg yolov4-tiny.conv.29 -map -dont_show\n",
        "'''"
      ],
      "metadata": {
        "id": "t5Ogtjd1DrXU"
      },
      "execution_count": null,
      "outputs": []
    },
    {
      "cell_type": "code",
      "source": [
        "# 測試\n",
        "#!./darknet detector demo data/my_obj.data cfg/my_yolov4-tiny-custom.cfg backup/my_yolov4-tiny-custom_final.weights data/Test/people1.mp4 -out_filename people_res.mp4 -dont_show"
      ],
      "metadata": {
        "id": "pIL8tapOHaa8"
      },
      "execution_count": null,
      "outputs": []
    },
    {
      "cell_type": "code",
      "source": [
        "# 壓縮影片，使Colab能正常播放 \n",
        "#!ffmpeg -y -i people_res.mp4 -vcodec libx264 compressed_people_res.mp4"
      ],
      "metadata": {
        "id": "FsmUZMjWHiKI"
      },
      "execution_count": null,
      "outputs": []
    },
    {
      "cell_type": "code",
      "source": [
        "# 播放影片\n",
        "#show_video('compressed_people_res.mp4')"
      ],
      "metadata": {
        "id": "AjRQ-6l9HjCl"
      },
      "execution_count": null,
      "outputs": []
    }
  ]
}